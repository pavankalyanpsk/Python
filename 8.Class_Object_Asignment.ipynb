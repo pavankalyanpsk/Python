{
 "cells": [
  {
   "cell_type": "markdown",
   "metadata": {
    "id": "UlTyvTnVDRXI"
   },
   "source": [
    "## 1. Create Python class named `Student` and display its type"
   ]
  },
  {
   "cell_type": "code",
   "execution_count": 2,
   "metadata": {},
   "outputs": [
    {
     "name": "stdout",
     "output_type": "stream",
     "text": [
      "<class 'str'>\n"
     ]
    }
   ],
   "source": [
    "# CODE HERE\n",
    "class Student:\n",
    "    \n",
    "    print(type(\"Student\"))"
   ]
  },
  {
   "cell_type": "markdown",
   "metadata": {
    "id": "nYjL6Efcx6ad"
   },
   "source": [
    "## 2. How to call a variable and function by creating a simple class\n"
   ]
  },
  {
   "cell_type": "code",
   "execution_count": 34,
   "metadata": {},
   "outputs": [
    {
     "name": "stdout",
     "output_type": "stream",
     "text": [
      "calling a Variable: 57\n",
      "calling function\n"
     ]
    }
   ],
   "source": [
    "class A:\n",
    "    def __init__(self):\n",
    "        self.variable=57\n",
    "        print(\"calling a Variable:\",self.variable)\n",
    "    def function():\n",
    "        return \"calling function\"\n",
    "        \n",
    "a=A()\n",
    "print(A.function())"
   ]
  },
  {
   "cell_type": "markdown",
   "metadata": {
    "id": "Qrn6EsJ7putu"
   },
   "source": [
    "## 3. Create a class with one `static variable` and two `instace variables`"
   ]
  },
  {
   "cell_type": "code",
   "execution_count": 1,
   "metadata": {},
   "outputs": [
    {
     "name": "stdout",
     "output_type": "stream",
     "text": [
      "I am Static variable\n",
      "instance_var1\n",
      "instance_var2\n"
     ]
    }
   ],
   "source": [
    "class Demo():\n",
    "    var1='I am Static variable'\n",
    "    def __init__(self,a,b):\n",
    "        self.instance1=a\n",
    "        self.instance2=b\n",
    "        \n",
    "c2=Demo('instance_var1','instance_var2')\n",
    "print(Demo.var1)\n",
    "print(c2.instance1)\n",
    "print(c2.instance2)\n",
    "    \n"
   ]
  },
  {
   "cell_type": "markdown",
   "metadata": {
    "id": "m2__2x3B_gub"
   },
   "source": [
    "## 4. Create a `Vehicle` class with max_speed and mileage instance attributes"
   ]
  },
  {
   "cell_type": "code",
   "execution_count": 21,
   "metadata": {
    "id": "4M2ggFoC_hqV"
   },
   "outputs": [
    {
     "name": "stdout",
     "output_type": "stream",
     "text": [
      "50\n",
      "10\n"
     ]
    }
   ],
   "source": [
    "# CODE HERE\n",
    "class Vehicle:\n",
    "\n",
    "    def __init__(self,max_speed,mileage):\n",
    "        self.max_speed=max_speed\n",
    "        self.mileage=mileage\n",
    "        \n",
    "a=Vehicle(50,10)\n",
    "print(a.max_speed)\n",
    "print(a.mileage)"
   ]
  },
  {
   "cell_type": "markdown",
   "metadata": {
    "id": "dGGYG_Sm1N4y"
   },
   "source": [
    "## 5. Create a simple class `Person` with constructer and one argument `name`"
   ]
  },
  {
   "cell_type": "code",
   "execution_count": 52,
   "metadata": {
    "id": "zkAdBgQP1bNW"
   },
   "outputs": [
    {
     "data": {
      "text/plain": [
       "'pavan'"
      ]
     },
     "execution_count": 52,
     "metadata": {},
     "output_type": "execute_result"
    }
   ],
   "source": [
    "# CODE HERE\n",
    "class person:\n",
    "    def __init__(self,name):\n",
    "        self.name=name\n",
    "a=person(\"pavan\")\n",
    "a.name"
   ]
  },
  {
   "cell_type": "markdown",
   "metadata": {
    "id": "T9AQ6X3i2k6l"
   },
   "source": [
    "## 6. Create a class for `Students` information like `name, rollno, marks` and `school name` with static variable.\n",
    "- create a function for displaying student information\n",
    "- create one more function for getting students marks and percentage "
   ]
  },
  {
   "cell_type": "code",
   "execution_count": 73,
   "metadata": {},
   "outputs": [
    {
     "name": "stdout",
     "output_type": "stream",
     "text": [
      "88.0\n",
      "pavan 57 440\n"
     ]
    }
   ],
   "source": [
    "class Students:\n",
    "    school_name=\"TVR\"\n",
    "    def __init__(self,name,rollno,marks):\n",
    "        self.name=name\n",
    "        self.rollno=rollno\n",
    "        self.marks=marks\n",
    "    def display(self):\n",
    "        print(self.name,self.rollno,self.marks)\n",
    "    def percent(self):\n",
    "        total_marks=500\n",
    "        percentage=(self.marks/total_marks)*100\n",
    "        print(percentage)\n",
    "        \n",
    "    \n",
    "a=Students(\"pavan\",57,440)\n",
    "a.percent()\n",
    "a.display()"
   ]
  },
  {
   "cell_type": "markdown",
   "metadata": {
    "id": "x-zGvkOi_9PD"
   },
   "source": [
    "## 7. Create a child class `Bus` that will inherit all of the variables and methods of the `Vehicle` class"
   ]
  },
  {
   "cell_type": "code",
   "execution_count": 101,
   "metadata": {
    "id": "5IppTc73__tp"
   },
   "outputs": [
    {
     "name": "stdout",
     "output_type": "stream",
     "text": [
      "Derived Class\n",
      "Base Class\n",
      "BMW\n",
      "BMW\n"
     ]
    }
   ],
   "source": [
    "# CODE HERE\n",
    "class Vehicle:\n",
    "    def __init__(self,model):\n",
    "        self.model=model\n",
    "        print(\"Base Class\")\n",
    "    def display():\n",
    "        print(\"BMW\")\n",
    "        \n",
    "class Bus(Vehicle):\n",
    "    print(\"Derived Class\")\n",
    "    \n",
    "\n",
    "A = Vehicle(\"Royal Enfield\")\n",
    "Vehicle.display()\n",
    "Bus.display()"
   ]
  },
  {
   "cell_type": "markdown",
   "metadata": {
    "id": "Cex1VHlicvR0"
   },
   "source": [
    "## 8. Create a class `Employee` with two arguments `name and salary`\n",
    "- create a function which displays the employee information\n",
    "- Print total number of employees "
   ]
  },
  {
   "cell_type": "code",
   "execution_count": 143,
   "metadata": {
    "colab": {
     "base_uri": "https://localhost:8080/"
    },
    "id": "BcTNOVUiAIn7",
    "outputId": "eada07d0-cb16-4b0c-bdca-a1b360ad24b7"
   },
   "outputs": [
    {
     "name": "stdout",
     "output_type": "stream",
     "text": [
      "Name :  Tagore salary: 50000\n",
      "Total no of employees: 1\n"
     ]
    }
   ],
   "source": [
    "class Employee:\n",
    "    no_of_employees=0\n",
    "    def __init__(self,name,salary):\n",
    "            self.name=name\n",
    "            self.salary=salary\n",
    "            Employee.no_of_employees=+1\n",
    "    def display(self):\n",
    "            print(\"Name : \",self.name, \"salary:\",self.salary)\n",
    "    def Total(cls):\n",
    "            print(\"Total no of employees:\",cls.no_of_employees)\n",
    "            \n",
    "          \n",
    "a=Employee(\"Tagore\",50000)\n",
    "a.display()\n",
    "a.Total()"
   ]
  }
 ],
 "metadata": {
  "colab": {
   "collapsed_sections": [],
   "name": "Class_Object_Asignment.ipynb",
   "provenance": []
  },
  "kernelspec": {
   "display_name": "Python 3 (ipykernel)",
   "language": "python",
   "name": "python3"
  },
  "language_info": {
   "codemirror_mode": {
    "name": "ipython",
    "version": 3
   },
   "file_extension": ".py",
   "mimetype": "text/x-python",
   "name": "python",
   "nbconvert_exporter": "python",
   "pygments_lexer": "ipython3",
   "version": "3.10.9"
  }
 },
 "nbformat": 4,
 "nbformat_minor": 1
}
