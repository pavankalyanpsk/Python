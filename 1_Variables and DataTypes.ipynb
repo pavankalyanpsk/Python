{
 "cells": [
  {
   "cell_type": "markdown",
   "metadata": {},
   "source": [
    "## Basics of Python"
   ]
  },
  {
   "cell_type": "markdown",
   "metadata": {},
   "source": [
    "> `Question:` Print your name"
   ]
  },
  {
   "cell_type": "code",
   "execution_count": 1,
   "metadata": {},
   "outputs": [
    {
     "name": "stdout",
     "output_type": "stream",
     "text": [
      "my name is pavan satya kalyan\n"
     ]
    }
   ],
   "source": [
    "# CODE HERE\n",
    "name=\"pavan satya kalyan\"\n",
    "print(\"my name is\", name)"
   ]
  },
  {
   "cell_type": "markdown",
   "metadata": {},
   "source": [
    "> `Question:` What is a variable? Write a Few words about Variables. Create a Variable with an Example. "
   ]
  },
  {
   "cell_type": "raw",
   "metadata": {},
   "source": [
    "#Write here\n",
    "Variables are the place holder to store the literal values.\n",
    "It contains only alphabets or underscore from starting only.\n",
    "There should not be any numerical values at starting.Variables should not be similar to keywords.\n",
    "There should not be any space between the variables."
   ]
  },
  {
   "cell_type": "code",
   "execution_count": 5,
   "metadata": {},
   "outputs": [
    {
     "name": "stdout",
     "output_type": "stream",
     "text": [
      "pavan satya kalyan\n",
      "234\n"
     ]
    }
   ],
   "source": [
    "# Code for creating a variable\n",
    "name=\"pavan satya kalyan\"\n",
    "print(name)\n",
    "a=234\n",
    "print(a)"
   ]
  },
  {
   "cell_type": "markdown",
   "metadata": {},
   "source": [
    ">`Question:` Assume that we execute the following assignment statements:\n",
    "width = 17\n",
    "height = 12.0\n",
    "delimiter = '.'\n",
    "For each of the following expressions, write the value of the expression and the type (of the value of\n",
    "the expression).\n",
    "1. width/2\n",
    "2. width/2.0\n",
    "3. height/3\n",
    "4. 1 + 2 * 5\n",
    "5. delimiter * 5"
   ]
  },
  {
   "cell_type": "code",
   "execution_count": 25,
   "metadata": {},
   "outputs": [
    {
     "name": "stdout",
     "output_type": "stream",
     "text": [
      "width/2 =  8.5\n",
      "<class 'float'>\n",
      "width/2.0 =  8.5\n",
      "<class 'float'>\n",
      "height/3 =  4.0\n",
      "<class 'float'>\n",
      "11\n",
      ".....\n"
     ]
    }
   ],
   "source": [
    "# CODE HERE\n",
    "width=17\n",
    "a=width/2\n",
    "print(\"width/2 = \", a)\n",
    "print(type(a))\n",
    "b=width/2.0\n",
    "print(\"width/2.0 = \", b)\n",
    "print(type(b))\n",
    "height=12.0\n",
    "c= height/3\n",
    "print(\"height/3 = \", c)\n",
    "print(type(c))\n",
    "d=1+2*5\n",
    "print(d)\n",
    "print(\".\"*5)"
   ]
  },
  {
   "cell_type": "raw",
   "metadata": {},
   "source": [
    "# Sample Outputs\n",
    "1. width/2 = 8.5\n",
    "2. width/2.0 = 8.5\n",
    "3. height/3 = 4.0\n",
    "4. 11\n",
    "5. ....."
   ]
  },
  {
   "cell_type": "markdown",
   "metadata": {},
   "source": [
    "> `Question:` Add two number by taking variable names as first and seccond"
   ]
  },
  {
   "cell_type": "code",
   "execution_count": 34,
   "metadata": {},
   "outputs": [
    {
     "name": "stdout",
     "output_type": "stream",
     "text": [
      "first number is : 23\n",
      "second_number is : 45\n",
      "Addition of two number are : 68\n"
     ]
    }
   ],
   "source": [
    "#CODE HERE\n",
    "first=23\n",
    "second=45\n",
    "print(\"first number is :\", first)\n",
    "print(\"second_number is :\", second)\n",
    "print(\"Addition of two number are :\", first+second)\n"
   ]
  },
  {
   "cell_type": "code",
   "execution_count": 6,
   "metadata": {},
   "outputs": [
    {
     "name": "stdout",
     "output_type": "stream",
     "text": [
      "first number is : 100\n",
      "second number is : 200\n",
      "Addition of two numbers are : 300\n"
     ]
    }
   ],
   "source": []
  },
  {
   "cell_type": "markdown",
   "metadata": {},
   "source": [
    "> `Question:` Add your first name and second name"
   ]
  },
  {
   "cell_type": "code",
   "execution_count": 15,
   "metadata": {},
   "outputs": [
    {
     "name": "stdout",
     "output_type": "stream",
     "text": [
      "My first name is :  Pavan\n",
      "My second name is : Satya\n",
      "My third name is : Kalyan\n",
      "My full name is : Pavan Satya Kalyan\n"
     ]
    }
   ],
   "source": [
    "# CODE HERE\n",
    "a=\"Pavan\"\n",
    "b=\"Satya\"\n",
    "c=\"Kalyan\"\n",
    "print(\"My first name is : \", a)\n",
    "print(\"My second name is :\", b)\n",
    "print(\"My third name is :\", c)\n",
    "print(\"My full name is :\", \"Pavan\"+\" \" 'Satya'+\" \" 'Kalyan')"
   ]
  },
  {
   "cell_type": "code",
   "execution_count": 8,
   "metadata": {},
   "outputs": [
    {
     "name": "stdout",
     "output_type": "stream",
     "text": [
      "My first name is : Sachin\n",
      "My second name is : Tendulkar\n",
      "My full name is : Sachin Tendulkar\n"
     ]
    }
   ],
   "source": []
  },
  {
   "cell_type": "code",
   "execution_count": null,
   "metadata": {},
   "outputs": [],
   "source": []
  },
  {
   "cell_type": "markdown",
   "metadata": {},
   "source": [
    "> `Question:` print the datatypes of the following\n",
    "- 10,'10',True,10.5"
   ]
  },
  {
   "cell_type": "code",
   "execution_count": 50,
   "metadata": {},
   "outputs": [
    {
     "name": "stdout",
     "output_type": "stream",
     "text": [
      "10- <class 'int'>\n",
      "'10'- <class 'str'>\n",
      "True- <class 'bool'>\n",
      "10.5- <class 'float'>\n"
     ]
    }
   ],
   "source": [
    "# CODE HERE\n",
    "a=10\n",
    "print(\"10-\",type(a))\n",
    "b='10'\n",
    "print(\"'10'-\",type(b))\n",
    "c=True\n",
    "print(\"True-\",type(c))\n",
    "d=10.5\n",
    "print(\"10.5-\",type(d))"
   ]
  },
  {
   "cell_type": "code",
   "execution_count": 11,
   "metadata": {},
   "outputs": [
    {
     "name": "stdout",
     "output_type": "stream",
     "text": [
      "10 -  <class 'int'>\n",
      "'10' -  <class 'str'>\n",
      "True -  <class 'bool'>\n",
      "10.5 -  <class 'float'>\n"
     ]
    }
   ],
   "source": []
  },
  {
   "cell_type": "markdown",
   "metadata": {},
   "source": [
    " `Question:` \n",
    "> - num_int = 123\n",
    "> - num_str = \"456\"\n",
    "> - Add num_int and num_str\n",
    "- `hint: first need to convert num_str into integer`"
   ]
  },
  {
   "cell_type": "code",
   "execution_count": 14,
   "metadata": {},
   "outputs": [
    {
     "name": "stdout",
     "output_type": "stream",
     "text": [
      "456\n",
      "Addition of 123 and 456 is : 579\n"
     ]
    }
   ],
   "source": [
    "# CODE HERE\n",
    "a=123\n",
    "b=\"456\"\n",
    "c=int(b)\n",
    "print(c)\n",
    "d=a+c\n",
    "print(\"Addition of 123 and 456 is :\",d)"
   ]
  },
  {
   "cell_type": "code",
   "execution_count": null,
   "metadata": {},
   "outputs": [],
   "source": []
  },
  {
   "cell_type": "markdown",
   "metadata": {},
   "source": [
    "### Advanced Questions"
   ]
  },
  {
   "cell_type": "markdown",
   "metadata": {},
   "source": [
    "> `Question:` The volume of a sphere with radius r is  4/3πr3  . What is the volume of a sphere with radius 5?"
   ]
  },
  {
   "cell_type": "code",
   "execution_count": 13,
   "metadata": {},
   "outputs": [
    {
     "name": "stdout",
     "output_type": "stream",
     "text": [
      "523.8095238095237\n"
     ]
    }
   ],
   "source": [
    "# CODE HERE\n",
    "r=5\n",
    "pi=22.0/7.0\n",
    "volume=4/3*pi*r**3\n",
    "print(volume)"
   ]
  },
  {
   "cell_type": "markdown",
   "metadata": {},
   "source": [
    "> `Question:` Suppose the cover price of a book is Rs.24.95, but bookstores get a 40% discount. Shipping costs Rs.3 for the first copy and 75 paise for each additional copy. What is the total wholesale cost for 60 copies?"
   ]
  },
  {
   "cell_type": "code",
   "execution_count": 12,
   "metadata": {},
   "outputs": [
    {
     "name": "stdout",
     "output_type": "stream",
     "text": [
      "discount amount per copy= 9.98\n",
      "cover price after discount per copy= 14.969999999999999\n",
      "total_price_first_copy= 17.97\n",
      "num_of_additional_copies= 59\n",
      "total_cost_of_additional_copies = 927.4799999999999\n",
      "wholesale_cost= 945.4499999999999\n"
     ]
    }
   ],
   "source": [
    "# CODE HERE\n",
    "cover_price=24.95\n",
    "discount = 40\n",
    "shipping_cost_first_copy=3\n",
    "shipping_cost_additional_copy=0.75\n",
    "total_copies=60\n",
    "dis_amount=cover_price* 40/100\n",
    "print(\"discount amount per copy=\",dis_amount)\n",
    "cover_price_aft_discount=cover_price-dis_amount\n",
    "print(\"cover price after discount per copy=\",cover_price_aft_discount)\n",
    "total_price_first_copy=cover_price_aft_discount + shipping_cost_first_copy\n",
    "print(\"total_price_first_copy=\",total_price_first_copy)\n",
    "num_of_additional_copies=total_copies-1\n",
    "print(\"num_of_additional_copies=\", num_of_additional_copies)\n",
    "tot_cost_of_additional_copies=num_of_additional_copies*(cover_price_aft_discount+shipping_cost_additional_copy)\n",
    "print(\"total_cost_of_additional_copies =\",tot_cost_of_additional_copies)\n",
    "wholesale_cost=total_price_first_copy+ tot_cost_of_additional_copies\n",
    "print(\"wholesale_cost=\",wholesale_cost)"
   ]
  },
  {
   "cell_type": "code",
   "execution_count": null,
   "metadata": {},
   "outputs": [],
   "source": []
  },
  {
   "cell_type": "code",
   "execution_count": null,
   "metadata": {},
   "outputs": [],
   "source": []
  }
 ],
 "metadata": {
  "kernelspec": {
   "display_name": "Python 3 (ipykernel)",
   "language": "python",
   "name": "python3"
  },
  "language_info": {
   "codemirror_mode": {
    "name": "ipython",
    "version": 3
   },
   "file_extension": ".py",
   "mimetype": "text/x-python",
   "name": "python",
   "nbconvert_exporter": "python",
   "pygments_lexer": "ipython3",
   "version": "3.10.9"
  }
 },
 "nbformat": 4,
 "nbformat_minor": 2
}
